{
 "cells": [
  {
   "cell_type": "code",
   "execution_count": null,
   "id": "f7ab46d9",
   "metadata": {},
   "outputs": [],
   "source": "from src.llm_maths_research import ScaffoldedResearcher\nfrom pathlib import Path\nimport os\n\n# Load problem from file\nproblem_path = Path(\"problems/test_data_analysis.txt\")\nwith open(problem_path, 'r') as f:\n    problem = f.read()\n\nprint(\"Problem loaded:\")\nprint(\"=\" * 60)\nprint(problem)\nprint(\"=\" * 60)\n\n# Load paper content\nwith open(\"problems/papers/examplepaper2025.txt\", 'r') as f:\n    paper_content = f.read()\n\n# Configure experiment\nsession_name = \"notebook_test_data_analysis\"\nmax_iterations = 4\n\nprint(f\"\\nExperiment Configuration:\")\nprint(f\"  Session: {session_name}\")\nprint(f\"  Max iterations: {max_iterations}\")\nprint()\n\n# Create researcher with direct content and paths\nresearcher = ScaffoldedResearcher(\n    session_name=session_name,\n    max_iterations=max_iterations,\n    api_key=os.getenv('ANTHROPIC_API_KEY'),  # Pass API key directly\n    papers={\"ExamplePaper\": paper_content},    # Pass paper content directly\n    data_paths=[\"data/datasets/example_timeseries.csv\"]  # Pass full data path\n)\n\n# Run experiment\nprint(\"Starting experiment...\\n\")\nresearcher.run(problem)"
  }
 ],
 "metadata": {
  "language_info": {
   "name": "python"
  }
 },
 "nbformat": 4,
 "nbformat_minor": 5
}