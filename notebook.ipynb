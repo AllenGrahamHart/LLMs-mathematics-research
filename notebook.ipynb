{
 "cells": [
  {
   "cell_type": "markdown",
   "id": "488vhmx6fv",
   "source": "# LLM Mathematics Research - Example Usage\n\nThis notebook demonstrates how to use the `ScaffoldedResearcher` class to run an automated research experiment.\n\n## What this does:\n\nThe `ScaffoldedResearcher` implements a generator-critic loop where:\n1. **Generator AI** produces research outputs (LaTeX papers + Python code + data analysis)\n2. **Critic AI** reviews the work and provides structured feedback\n3. The loop iterates for a specified number of rounds, with each iteration building on previous work\n\n## This example:\n\n- **Problem**: Statistical analysis of temperature-humidity correlation\n- **Reference Paper**: Example paper on weather data analysis\n- **Dataset**: 10 days of temperature and humidity measurements\n- **Iterations**: 4 rounds of generation → critique → refinement\n- **Output**: Complete research paper with analysis, figures, and citations\n\n## Flexible API (pip-installable):\n\nThis notebook uses the flexible API that works after pip installation:\n- `api_key`: Pass your Anthropic API key directly (or use environment variable)\n- `papers`: Pass paper content as a dictionary (no file system dependency)\n- `data_paths`: Pass full paths to your data files\n\n## Outputs:\n\nResults will be saved to `outputs/{session_name}/`:\n- `paper.pdf` - Final compiled research paper\n- `code.py` - Generated Python analysis code\n- `*.png` - Generated figures\n- Various logs and intermediate files",
   "metadata": {}
  },
  {
   "cell_type": "code",
   "execution_count": null,
   "id": "f7ab46d9",
   "metadata": {},
   "outputs": [],
   "source": [
    "from src.llm_maths_research import ScaffoldedResearcher\n",
    "from pathlib import Path\n",
    "import os\n",
    "\n",
    "# Load problem from file\n",
    "problem_path = Path(\"problems/test_data_analysis.txt\")\n",
    "with open(problem_path, 'r') as f:\n",
    "    problem = f.read()\n",
    "\n",
    "print(\"Problem loaded:\")\n",
    "print(\"=\" * 60)\n",
    "print(problem)\n",
    "print(\"=\" * 60)\n",
    "\n",
    "# Load paper content\n",
    "with open(\"problems/papers/examplepaper2025.txt\", 'r') as f:\n",
    "    paper_content = f.read()\n",
    "\n",
    "# Configure experiment\n",
    "session_name = \"notebook_test_data_analysis\"\n",
    "max_iterations = 4\n",
    "\n",
    "print(f\"\\nExperiment Configuration:\")\n",
    "print(f\"  Session: {session_name}\")\n",
    "print(f\"  Max iterations: {max_iterations}\")\n",
    "print()\n",
    "\n",
    "# Create researcher with direct content and paths\n",
    "researcher = ScaffoldedResearcher(\n",
    "    session_name=session_name,\n",
    "    max_iterations=max_iterations,\n",
    "    api_key=os.getenv('ANTHROPIC_API_KEY'),  # Pass API key directly\n",
    "    papers={\"ExamplePaper\": paper_content},    # Pass paper content directly\n",
    "    data_paths=[\"data/datasets/example_timeseries.csv\"]  # Pass full data path - the file data/datasets/example_timeseries.txt describes the csv\n",
    ")\n",
    "\n",
    "# Run experiment\n",
    "print(\"Starting experiment...\\n\")\n",
    "researcher.run(problem)"
   ]
  }
 ],
 "metadata": {
  "language_info": {
   "name": "python"
  }
 },
 "nbformat": 4,
 "nbformat_minor": 5
}